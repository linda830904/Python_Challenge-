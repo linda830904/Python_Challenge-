{
 "cells": [
  {
   "cell_type": "code",
   "execution_count": 3,
   "metadata": {},
   "outputs": [
    {
     "name": "stdout",
     "output_type": "stream",
     "text": [
      "Financial Analysis\n",
      "------------------------------\n",
      "Total Months: 41\n",
      "Total Revenue: $18971412\n",
      "Average Revenue Change: $-6758\n",
      "Greatest Increase in Revenue: Jan-16 ($1837235)\n",
      "Greatest Decrease in Revenue: Jul-14 ($-1779747)\n"
     ]
    }
   ],
   "source": [
    "#import modules\n",
    "import os\n",
    "import csv\n",
    "\n",
    "#file path\n",
    "budget_data = os.path.join(\"budget_data_1.csv\")\n",
    "summary_data = os.path.join(\"summary.txt\")\n",
    "\n",
    "#Open file\n",
    "with open(budget_data, \"r\", newline = \"\") as csvfile:\n",
    "    csvreader = csv.reader(csvfile, delimiter = \",\")\n",
    "    next(csvreader, None)\n",
    "    \n",
    "\n",
    " \n",
    "\n",
    "    #Creating lists\n",
    "    date = []\n",
    "    revenue = []\n",
    "    revenue_change = []\n",
    "    \n",
    "    for row in csvreader:\n",
    "    \n",
    "    #Calculating Total Months\n",
    "        date.append(row[0]) \n",
    "      \n",
    "    #Calculating Total Revenue\n",
    "        revenue.append(int(row[1]))\n",
    "\n",
    "\n",
    " #Calculate Average Change in Revenue \n",
    "    for i in range(1, len(revenue)):\n",
    "        revenue_difference = revenue[i] - revenue[i-1]\n",
    "        revenue_change.append(revenue_difference)\n",
    "        average_revenue_change = int(sum(revenue_change) / len(revenue_change))\n",
    "    \n",
    "    #Greatest Revenue Increase\n",
    "    greatest_revenue_increase = int(max(revenue_change))\n",
    "    increase_index = revenue_change.index(greatest_revenue_increase)\n",
    "    increase_date = date[increase_index]\n",
    "\n",
    "    #Greatest Revenue Decrease\n",
    "    greatest_revenue_decrease = int(min(revenue_change))\n",
    "    decrease_index = revenue_change.index(greatest_revenue_decrease)\n",
    "    decrease_date = date[decrease_index]\n",
    "    \n",
    "total_months = len(date) \n",
    "total_revenue = int(sum(revenue))\n",
    "\n",
    "    #Print results\n",
    "print(\"Financial Analysis\")\n",
    "print(\"------------------------------\")\n",
    "print(\"Total Months: \" + str(total_months))\n",
    "print(\"Total Revenue: $\" + str(total_revenue))\n",
    "print(\"Average Revenue Change: $\" + str(average_revenue_change))\n",
    "print(\"Greatest Increase in Revenue: \" + str(increase_date) + \" ($\" + str(greatest_revenue_increase)+ \")\")\n",
    "print(\"Greatest Decrease in Revenue: \" + str(decrease_date) + \" ($\" + str(greatest_revenue_decrease)+ \")\")\n",
    "\n",
    "#write summary result \n",
    "summary = open(summary_data, \"w\")\n",
    "summary.write(\"Financial Analysis\\n\")\n",
    "summary.write(\"------------------------------\\n\")\n",
    "summary.write(\"Total Months: \" + str(total_months)+ \"\\n\")\n",
    "summary.write(\"Total Revenue: $\" + str(total_revenue)+ \"\\n\")\n",
    "summary.write(\"Average Revenue Change: $\" + str(average_revenue_change) + \"\\n\")\n",
    "summary.write(\"Greatest Increase in Revenue: \" + str(increase_date) + \" ($\" + str(greatest_revenue_increase)+ \")\\n\")\n",
    "summary.write(\"Greatest Decrease in Revenue: \" + str(decrease_date) + \" ($\" + str(greatest_revenue_decrease)+ \")\\n\")\n",
    "\n",
    "summary.close()"
   ]
  },
  {
   "cell_type": "code",
   "execution_count": null,
   "metadata": {
    "collapsed": true
   },
   "outputs": [],
   "source": []
  }
 ],
 "metadata": {
  "kernelspec": {
   "display_name": "Python 3",
   "language": "python",
   "name": "python3"
  },
  "language_info": {
   "codemirror_mode": {
    "name": "ipython",
    "version": 3
   },
   "file_extension": ".py",
   "mimetype": "text/x-python",
   "name": "python",
   "nbconvert_exporter": "python",
   "pygments_lexer": "ipython3",
   "version": "3.6.3"
  }
 },
 "nbformat": 4,
 "nbformat_minor": 2
}
